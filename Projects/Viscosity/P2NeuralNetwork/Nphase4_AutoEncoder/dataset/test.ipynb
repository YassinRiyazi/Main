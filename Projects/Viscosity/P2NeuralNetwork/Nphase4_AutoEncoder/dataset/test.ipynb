{
 "cells": [
  {
   "cell_type": "code",
   "execution_count": 19,
   "id": "fdf5a1d2",
   "metadata": {},
   "outputs": [],
   "source": [
    "import os\n",
    "from viscosity_calculator import Viscosity_calc"
   ]
  },
  {
   "cell_type": "code",
   "execution_count": 20,
   "id": "a4a2aaf8",
   "metadata": {},
   "outputs": [
    {
     "name": "stdout",
     "output_type": "stream",
     "text": [
      "{'frames20250620': {'date': '20/06/25', 'temperature': 25.3, 'humidity': 37.3}, 'frames20250621': {'date': '21/06/25', 'temperature': 26.3, 'humidity': 35.3}, 'frames20250622': {'date': '22/06/25', 'temperature': 27.1, 'humidity': 44.1}, 'frames20250702': {'date': '02/07/25', 'temperature': 27.6, 'humidity': 46.6}, 'frames20250703': {'date': '03/07/25', 'temperature': 26.8, 'humidity': 45.7}, 'frames20250707': {'date': '07/07/25', 'temperature': 23.2, 'humidity': 59.7}, 'frames20250710': {'date': '10/07/25', 'temperature': 25.5, 'humidity': 33.2}, 'frames20250711': {'date': '11/07/25', 'temperature': 24.3, 'humidity': 47.8}, 'frames20250712': {'date': '12/07/25', 'temperature': 25.7, 'humidity': 40.7}, 'frames20250713': {'date': '13/07/25', 'temperature': 26.1, 'humidity': 45.3}, 'frames20250714': {'date': '14/07/25', 'temperature': 24.6, 'humidity': 49.5}}\n"
     ]
    }
   ],
   "source": [
    "def parse_conditions(filepath):\n",
    "    \"\"\"Parse a conditions text file into a dictionary of temperature and humidity by date.\n",
    "    \n",
    "    Args:\n",
    "        filepath (str): Path to the text file.\n",
    "        \n",
    "    Returns:\n",
    "        dict: Dictionary where keys are dates (str) and values are dicts with 'temperature' and 'humidity'.\n",
    "    \"\"\"\n",
    "    conditions = {}\n",
    "    with open(filepath, 'r') as file:\n",
    "        lines = [line.strip() for line in file if line.strip()]  # Remove empty lines\n",
    "        \n",
    "    for i in range(0, len(lines), 3):\n",
    "        day, month, year = lines[i].split(\"/\")\n",
    "        name = f\"frames20{year}{month}{day}\"\n",
    "        temp = lines[i+1].replace(' C', '')\n",
    "        hum = lines[i+2].replace(' %', '')\n",
    "        conditions[name] = {\n",
    "            'date'          : lines[i],\n",
    "            \n",
    "            'temperature'   : float(temp),\n",
    "            'humidity'      : float(hum)\n",
    "        }\n",
    "    \n",
    "    return conditions\n",
    "\n",
    "\n",
    "# Example usage:\n",
    "conditions = parse_conditions('/media/d2u25/Dont/Teflon/Conditions.txt')\n",
    "print(conditions)\n"
   ]
  },
  {
   "cell_type": "code",
   "execution_count": null,
   "id": "e29e6675",
   "metadata": {},
   "outputs": [
    {
     "name": "stdout",
     "output_type": "stream",
     "text": [
      "26.3\n",
      "Mass fraction of mixture = 0.5\n",
      "Volume fraction of mixture = 0.44216\n",
      "Viscosity of mixture = 0.00478 Ns/m2\n"
     ]
    }
   ],
   "source": [
    "name = \"frames20250621_203528_DropNumber_01.mp4\"\n",
    "\n",
    "for i in conditions.keys():\n",
    "    if name.startswith(i):\n",
    "        Viscosity_calc(0.1,0.1,temperature=conditions[i]['temperature'],)\n"
   ]
  }
 ],
 "metadata": {
  "kernelspec": {
   "display_name": "torch3.11",
   "language": "python",
   "name": "python3"
  },
  "language_info": {
   "codemirror_mode": {
    "name": "ipython",
    "version": 3
   },
   "file_extension": ".py",
   "mimetype": "text/x-python",
   "name": "python",
   "nbconvert_exporter": "python",
   "pygments_lexer": "ipython3",
   "version": "3.11.13"
  }
 },
 "nbformat": 4,
 "nbformat_minor": 5
}
