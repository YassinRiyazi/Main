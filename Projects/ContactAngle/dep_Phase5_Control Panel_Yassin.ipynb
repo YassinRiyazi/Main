{
 "cells": [
  {
   "cell_type": "code",
   "execution_count": 1,
   "id": "e5e8da36",
   "metadata": {},
   "outputs": [],
   "source": [
    "import  os\n",
    "import  cv2\n",
    "import  PIL\n",
    "import  tqdm\n",
    "import  shutil\n",
    "import  natsort\n",
    "import  warnings\n",
    "import  pandas              as      pd\n",
    "import  numpy               as      np\n",
    "import  matplotlib.pyplot   as      plt\n",
    "import  warnings\n",
    "warnings.filterwarnings(\"ignore\", category=RuntimeWarning)\n",
    "\n",
    "from    scipy.optimize      import curve_fit\n",
    "from    scipy.signal        import savgol_filter\n",
    "from    scipy               import ndimage\n",
    "from    PIL                 import Image\n",
    "from    matplotlib.pyplot   import plot,text, cla, rcParams, text\n",
    "\n",
    "import utils\n",
    "# import  baseline_detection\n",
    "# import  criteria_definition\n",
    "# import  edge_superres\n",
    "# import  visualization\n",
    "\n",
    "# import tensorflow as tf\n",
    "# tf.config.set_visible_devices([], 'GPU')\n"
   ]
  },
  {
   "cell_type": "code",
   "execution_count": 2,
   "id": "db9f02d5",
   "metadata": {},
   "outputs": [],
   "source": [
    "# import openpyxl, tqdm"
   ]
  },
  {
   "cell_type": "code",
   "execution_count": 3,
   "id": "2d79f9e7",
   "metadata": {},
   "outputs": [],
   "source": [
    "# set variables\n",
    "ad=r\"Processed_bubble/320/S1_30per_T1_C001H001S0001\"\n",
    "fps=5000\n",
    "cm_on_pixel_ratio= 0.0039062\n",
    "error_handling_kernel_size=(5,5)\n",
    "utils.make_folders(ad)"
   ]
  },
  {
   "cell_type": "code",
   "execution_count": 4,
   "id": "d6f2614a",
   "metadata": {},
   "outputs": [],
   "source": [
    "# model=utils.model_architecture(\"models/SuperRes_weights.h5\")\n",
    "model = utils.initiation()\n",
    "\n",
    "angle, rotated1, red1_xs, red1_ys, red2_xs, red2_ys= utils.slope_measurement(ad)\n",
    "baseline            =min(utils.find_reds(rotated1)[1])-1\n",
    "name_files          =utils.load_files(ad)\n",
    "img_frame           =cv2.imread(os.path.join(ad,name_files[0]))\n",
    "img_frame_rotated   =utils.rotate_image(img_frame, angle)\n",
    "\n",
    "adv_list, rec_list, contact_line_length_list, x_center_list, y_center_list, middle_angle_degree_list,processed_number_list=[],[],[],[],[],[],[]\n",
    "rec_angle_point_list, adv_angle_point_list=[],[]\n",
    "\n",
    "#utilizing morphological transformation to remove noises\n",
    "kernel = np.ones(error_handling_kernel_size,np. uint8)\n",
    "\n",
    "num_px_ratio=(0.0039062)/cm_on_pixel_ratio"
   ]
  },
  {
   "cell_type": "code",
   "execution_count": 5,
   "id": "d3a9090d",
   "metadata": {},
   "outputs": [],
   "source": [
    "file_number=1"
   ]
  },
  {
   "cell_type": "code",
   "execution_count": 6,
   "id": "b54e25f2",
   "metadata": {},
   "outputs": [],
   "source": [
    "img_drop=cv2.imread(os.path.join(ad,name_files[file_number]))\n",
    "img_drop_rotated=utils.rotate_image(img_drop, angle)\n",
    "\n",
    "#drop diff\n",
    "diff_img=cv2.absdiff(img_drop_rotated, img_frame_rotated)\n",
    "\n",
    "#drop cropping\n",
    "BaseL=utils.Baseline(baseline, middle_drop_height=25,drop_start_height=3*3, object_detection_threshold=40)\n",
    "drop_reflection,*dim=BaseL.drop_cropping(diff_img, x_left_margin=30, x_right_margin=60,y_up_margin=10)\n",
    "just_drop = diff_img[dim[2]:baseline,dim[0]:dim[1],:]\n",
    "\n",
    "#super resolution    \n",
    "upscaled_image=utils.upscale_image(model, cv2.cvtColor(just_drop.astype('uint8'), cv2.COLOR_BGR2RGB))\n",
    "\n",
    "\n",
    "#utilizing morphological transformation to remove noises\n",
    "upscaled_image=cv2.morphologyEx(np.array(upscaled_image), cv2.MORPH_CLOSE, kernel)\n",
    "\n",
    "#keeping just external pixels as droplet curvature\n",
    "i_list, j_list =utils.edge_extraction( upscaled_image, thr=40)\n",
    "\n",
    "#extracting the desired number of pixels as input of the polynomial fitting \n",
    "left_number_of_pixels=int(150*num_px_ratio)\n",
    "right_number_of_pixels=int(65*num_px_ratio)\n",
    "i_left, j_left=utils.advancing_pixel_selection(i_list,j_list, left_number_of_pixels=left_number_of_pixels)\n",
    "i_right, j_right=utils.receding_pixel_selection(i_list,j_list, right_number_of_pixels=right_number_of_pixels)\n",
    "\n",
    "#rotation for fitting, it can increase the accuracy to rotate 90 degrees then fit the polynomial\n",
    "i_left_rotated,j_left_rotated=j_left,i_left       \n",
    "i_right_rotated,j_right_rotated=j_right,i_right   \n",
    "\n",
    "left_polynomial_degree=3\n",
    "right_polynomial_degree=2\n",
    "\n",
    "i_poly_left_rotated, j_poly_left_rotated    = utils.poly_fitting(i_left_rotated,j_left_rotated,polynomial_degree=left_polynomial_degree,line_space=left_number_of_pixels)\n",
    "i_poly_right_rotated, j_poly_right_rotated  = utils.poly_fitting(i_right_rotated,j_right_rotated,polynomial_degree=right_polynomial_degree,line_space=right_number_of_pixels)\n",
    "\n",
    "right_angle_degree,right_angle_point        = utils.right_angle(i_poly_right_rotated, j_poly_right_rotated,1)\n",
    "left_angle_degree,left_angle_point          = utils.left_angle(i_poly_left_rotated, j_poly_left_rotated,1)\n"
   ]
  },
  {
   "cell_type": "code",
   "execution_count": 7,
   "id": "224f7cb7",
   "metadata": {},
   "outputs": [],
   "source": [
    "from ultralytics import YOLO\n",
    "\n",
    "yolo_m = YOLO(\"models/best.pt\")\n",
    "_img_drop = img_drop[-200:,:,:]\n",
    "results = yolo_m(_img_drop, verbose=False)\n",
    "x1,y1,x2,y2 = np.array(results[0].boxes.xyxy[:, :].cpu().numpy(), dtype=np.int32)[0]\n",
    "x1,y1,x2,y2 = x1,y1,x2,y2\n",
    "just_drop2 = _img_drop[y1-10:y2-7,x1-10:x2+10,:]\n",
    "just_drop2 = cv2.bitwise_not(just_drop2)\n",
    "\n",
    "\n",
    "import matplotlib\n",
    "matplotlib.use('TkAgg')\n",
    "plt.imshow(just_drop)\n",
    "plt.show()\n",
    "plt.imshow(just_drop2)\n",
    "plt.show()"
   ]
  },
  {
   "cell_type": "code",
   "execution_count": 8,
   "id": "058db750",
   "metadata": {},
   "outputs": [],
   "source": [
    "i_list, j_list, i_left, j_left, i_right, j_right, j_poly_left, i_poly_left, j_poly_right, i_poly_right, x_cropped, i_poly_left_rotated, j_poly_left_rotated, i_poly_right_rotated, j_poly_right_rotated = utils.base_function_process(ad,name_files,file_number,\n",
    "                                                                                                                                                                                                                                              angle = angle, img_frame_rotated = img_frame_rotated, baseline = baseline, model = model, kernel = kernel, num_px_ratio=num_px_ratio,yolo_m=yolo_m)\n",
    "distance = (x_cropped) * 3\n",
    "address=os.path.join(ad,'SR_edge',str(name_files[file_number]))\n",
    "adv, rec,rec_angle_point, adv_angle_point, contact_line_length, x_center, y_center, middle_angle_degree=utils.visualize(address, \n",
    "                                                                                                                            distance+np.array(i_list),j_list,distance+np.array(i_left),j_left,distance+np.array(i_right),j_right,\n",
    "                                                                                                                            j_poly_left,distance+np.array(i_poly_left),j_poly_right,distance+np.array(i_poly_right),x_cropped,\n",
    "                                                                                                                            distance+np.array(i_poly_left_rotated), j_poly_left_rotated, distance+np.array(i_poly_right_rotated),\n",
    "                                                                                                                            j_poly_right_rotated, cm_on_pixel=cm_on_pixel_ratio, middle_line_switch=1)\n",
    "\n",
    "processed_number_list.append(int(name_files[file_number].split(\".\")[0].split(\"S0001\")[-1]))\n",
    "adv_list.append(adv)\n",
    "rec_list.append(rec)\n",
    "adv_angle_point_list.append(adv_angle_point)\n",
    "rec_angle_point_list.append(rec_angle_point)\n",
    "contact_line_length_list.append(contact_line_length)\n",
    "x_center_list.append(x_center)\n",
    "y_center_list.append(y_center)\n",
    "middle_angle_degree_list.append(middle_angle_degree)\n"
   ]
  },
  {
   "cell_type": "code",
   "execution_count": 9,
   "id": "bc74f80d",
   "metadata": {},
   "outputs": [],
   "source": [
    "i_list, j_list, i_left, j_left, i_right, j_right, j_poly_left, i_poly_left, j_poly_right, i_poly_right, x_cropped, i_poly_left_rotated, j_poly_left_rotated, i_poly_right_rotated, j_poly_right_rotated = utils.base_function_process(ad,name_files,file_number,\n",
    "                                                                                                                                                                                                                                              angle = angle, img_frame_rotated = img_frame_rotated, baseline = baseline, model = model, kernel = kernel, num_px_ratio=num_px_ratio,yolo_m=yolo_m)\n",
    "distance = (x_cropped) * 3\n",
    "address=os.path.join(ad,'SR_edge',str(name_files[file_number]))\n",
    "adv, rec,rec_angle_point, adv_angle_point, contact_line_length, x_center, y_center, middle_angle_degree=utils.visualize(address, \n",
    "                                                                                                                            distance+np.array(i_list),j_list,distance+np.array(i_left),j_left,distance+np.array(i_right),j_right,\n",
    "                                                                                                                            j_poly_left,distance+np.array(i_poly_left),j_poly_right,distance+np.array(i_poly_right),x_cropped,\n",
    "                                                                                                                            distance+np.array(i_poly_left_rotated), j_poly_left_rotated, distance+np.array(i_poly_right_rotated),\n",
    "                                                                                                                            j_poly_right_rotated, cm_on_pixel=cm_on_pixel_ratio, middle_line_switch=1)\n",
    "\n",
    "processed_number_list.append(int(name_files[file_number].split(\".\")[0].split(\"S0001\")[-1]))\n",
    "adv_list.append(adv)\n",
    "rec_list.append(rec)\n",
    "adv_angle_point_list.append(adv_angle_point)\n",
    "rec_angle_point_list.append(rec_angle_point)\n",
    "contact_line_length_list.append(contact_line_length)\n",
    "x_center_list.append(x_center)\n",
    "y_center_list.append(y_center)\n",
    "middle_angle_degree_list.append(middle_angle_degree)\n"
   ]
  },
  {
   "cell_type": "code",
   "execution_count": 10,
   "id": "848ebac5",
   "metadata": {},
   "outputs": [
    {
     "data": {
      "text/plain": [
       "[np.float64(0.8310050810721015), np.float64(0.8310050810721015)]"
      ]
     },
     "execution_count": 10,
     "metadata": {},
     "output_type": "execute_result"
    }
   ],
   "source": [
    "x_center_list"
   ]
  },
  {
   "cell_type": "code",
   "execution_count": null,
   "id": "ba20c62e",
   "metadata": {},
   "outputs": [
    {
     "name": "stderr",
     "output_type": "stream",
     "text": [
      " 37%|███▋      | 358/962 [00:31<00:51, 11.70it/s]"
     ]
    }
   ],
   "source": [
    "if os.path.isfile(os.path.join(ad,\"error_log.txt\")):\n",
    "    os.remove(os.path.join(ad,\"error_log.txt\"))\n",
    "\n",
    "#def folder_pro\n",
    "for file_number in tqdm.tqdm(range(1, len(name_files))):\n",
    "    try:\n",
    "        i_list, j_list, i_left, j_left, i_right, j_right, j_poly_left, i_poly_left, j_poly_right, i_poly_right, x_cropped, i_poly_left_rotated, j_poly_left_rotated, i_poly_right_rotated, j_poly_right_rotated = utils.base_function_process(ad,name_files,file_number,\n",
    "                                                                                                                                                                                                                                              angle = angle, img_frame_rotated = img_frame_rotated, baseline = baseline, model = model, kernel = kernel, num_px_ratio=num_px_ratio,yolo_m=yolo_m)\n",
    "        distance = (x_cropped) * 3\n",
    "        address=os.path.join(ad,'SR_edge',str(name_files[file_number]))\n",
    "        adv, rec,rec_angle_point, adv_angle_point, contact_line_length, x_center, y_center, middle_angle_degree=utils.visualize(address, \n",
    "                                                                                                                                    distance+np.array(i_list),j_list,distance+np.array(i_left),j_left,distance+np.array(i_right),j_right,\n",
    "                                                                                                                                    j_poly_left,distance+np.array(i_poly_left),j_poly_right,distance+np.array(i_poly_right),x_cropped,\n",
    "                                                                                                                                    distance+np.array(i_poly_left_rotated), j_poly_left_rotated, distance+np.array(i_poly_right_rotated),\n",
    "                                                                                                                                    j_poly_right_rotated, cm_on_pixel=cm_on_pixel_ratio, middle_line_switch=1)\n",
    "        \n",
    "        processed_number_list.append(int(name_files[file_number].split(\".\")[0].split(\"S0001\")[-1]))\n",
    "        adv_list.append(adv)\n",
    "        rec_list.append(rec)\n",
    "        adv_angle_point_list.append(adv_angle_point)\n",
    "        rec_angle_point_list.append(rec_angle_point)\n",
    "        contact_line_length_list.append(contact_line_length)\n",
    "        x_center_list.append(x_center)\n",
    "        y_center_list.append(y_center)\n",
    "        middle_angle_degree_list.append(middle_angle_degree)\n",
    "\n",
    "    except Exception as e:\n",
    "        # Append the error message to a log file\n",
    "        with open(os.path.join(ad,\"error_log.txt\"), \"a\") as log_file:\n",
    "            log_file.write(f\"File name {os.path.join(ad,name_files[file_number])} with shape of :{cv2.imread(os.path.join(ad,name_files[file_number])).shape}\" + \"\\n\")\n",
    "\n",
    "vel=[]\n",
    "for i in range(len(x_center_list)-1):\n",
    "    vel=vel+[x_center_list[i+1]-x_center_list[i]]\n",
    "\n",
    "vel=np.array(vel)*fps\n",
    "\n",
    "df=pd.DataFrame([processed_number_list, np.arange(0, 1/fps*len(vel), 1/fps), x_center_list, adv_list,rec_list,contact_line_length_list, y_center_list, middle_angle_degree_list, vel]).T\n",
    "df=df[:-1]\n",
    "\n",
    "df.columns=['file number', \"time (s)\", 'x_center (cm)', 'adv (degree)', 'rec (degree)', 'contact_line_length (cm)', 'y_center (cm)', 'middle_angle_degree (degree)', 'velocity (cm/s)']\n",
    "filter_size=9\n",
    "\n",
    "df[\"adv (degree)\"]=savgol_filter(df[\"adv (degree)\"], filter_size, 2)\n",
    "df[\"rec (degree)\"]=savgol_filter(df[\"rec (degree)\"], filter_size, 2)\n",
    "df[\"contact_line_length (cm)\"]=savgol_filter(df[\"contact_line_length (cm)\"], filter_size, 2)\n",
    "df[\"y_center (cm)\"]=savgol_filter(df[\"y_center (cm)\"], filter_size, 2)\n",
    "df[\"middle_angle_degree (degree)\"]=savgol_filter(df[\"middle_angle_degree (degree)\"], filter_size, 2)\n",
    "df[\"velocity (cm/s)\"]=savgol_filter(df[\"velocity (cm/s)\"], filter_size, 2)\n",
    "df.to_excel(os.path.join(ad,'SR_result','result.xlsx'))\n"
   ]
  },
  {
   "cell_type": "code",
   "execution_count": null,
   "id": "a4168728-d237-4658-9b34-d48db1da31ad",
   "metadata": {},
   "outputs": [],
   "source": [
    "import matplotlib\n",
    "matplotlib.use('TkAgg')\n",
    "\n",
    "plt.figure(figsize=(8, 5))  # Adjust the size of the figure\n",
    "plt.plot(df[\"x_center (cm)\"], df[\"adv (degree)\"], label=\"Advancing Angle\", color=\"blue\", linestyle=\"-\", linewidth=2)\n",
    "plt.plot(df[\"x_center (cm)\"], df[\"rec (degree)\"], label=\"Receding Angle\", color=\"green\", linestyle=\"-\", linewidth=2)\n",
    "\n",
    "# Adding titles and labels\n",
    "plt.title(\"Advancing and Receding Angles Over Time\", fontsize=14)\n",
    "plt.xlabel(\"x_center (cm)\", fontsize=12)\n",
    "plt.ylabel(\"Angle (degrees)\", fontsize=12)\n",
    "\n",
    "# Customizing the grid\n",
    "plt.grid(color=\"gray\", linestyle=\"--\", linewidth=0.5, alpha=0.7)\n",
    "\n",
    "plt.ylim(0, 180)\n",
    "\n",
    "# Adding a legend\n",
    "plt.legend(fontsize=10, loc=\"best\")\n",
    "\n",
    "# Improving axis ticks\n",
    "plt.xticks(fontsize=10)\n",
    "plt.yticks(fontsize=10)\n",
    "\n",
    "# Display the plot\n",
    "plt.tight_layout()  # Ensures everything fits well\n",
    "plt.show()\n"
   ]
  }
 ],
 "metadata": {
  "kernelspec": {
   "display_name": "torch3.12",
   "language": "python",
   "name": "python3"
  },
  "language_info": {
   "codemirror_mode": {
    "name": "ipython",
    "version": 3
   },
   "file_extension": ".py",
   "mimetype": "text/x-python",
   "name": "python",
   "nbconvert_exporter": "python",
   "pygments_lexer": "ipython3",
   "version": "3.12.9"
  }
 },
 "nbformat": 4,
 "nbformat_minor": 5
}
